{
  "nbformat": 4,
  "nbformat_minor": 0,
  "metadata": {
    "colab": {
      "provenance": [],
      "authorship_tag": "ABX9TyPowxqaByv9zhqEj+XNcrJY",
      "include_colab_link": true
    },
    "kernelspec": {
      "name": "python3",
      "display_name": "Python 3"
    },
    "language_info": {
      "name": "python"
    }
  },
  "cells": [
    {
      "cell_type": "markdown",
      "metadata": {
        "id": "view-in-github",
        "colab_type": "text"
      },
      "source": [
        "<a href=\"https://colab.research.google.com/github/jbaremoney/amm_problem/blob/main/amm_12552.ipynb\" target=\"_parent\"><img src=\"https://colab.research.google.com/assets/colab-badge.svg\" alt=\"Open In Colab\"/></a>"
      ]
    },
    {
      "cell_type": "markdown",
      "source": [
        "AMM 12552 recursive solution\n",
        "problem def'n:\\\n",
        "Let $A=\\{0,1,2\\}$. For $n\\ge 0$, define\n",
        "\\\n",
        "$T_n=\\{\\,x\\in A^n : \\text{'20' does not occur in } x\\,\\}$.\\\n",
        "ie $T_2=\\{00,01,02,10,11,12,21,22\\}$\n",
        "\n",
        "Find the sum of 1's over all x in $T_n$"
      ],
      "metadata": {
        "id": "vEGqL6kifWlM"
      }
    },
    {
      "cell_type": "code",
      "source": [
        "import itertools\n",
        "from functools import lru_cache\n",
        "\n",
        "\n",
        "# the brute force stuff\n",
        "def count_valid(strings):\n",
        "    return sum(\"20\" not in s for s in strings)\n",
        "\n",
        "def total_ones_over_valid(strings):\n",
        "    return sum(s.count('1') for s in strings if \"20\" not in s)\n",
        "\n",
        "ALPHABET = \"012\"\n",
        "\n",
        "def generate_Tn(n: int, as_set: bool = False):\n",
        "    \"\"\"\n",
        "    Return all length-n strings over {0,1,2}.\n",
        "    If as_set=True, return a set; otherwise return a list (lexicographic order).\n",
        "    \"\"\"\n",
        "    if n < 0:\n",
        "        raise ValueError(\"n must be nonnegative\")\n",
        "    it = (''.join(t) for t in itertools.product(ALPHABET, repeat=n))\n",
        "    return set(it) if as_set else list(it)\n"
      ],
      "metadata": {
        "id": "-qISMnbyfT4K"
      },
      "execution_count": 1,
      "outputs": []
    },
    {
      "cell_type": "markdown",
      "source": [
        "Recursive def'n proposed: \\\n",
        " $f(n)$ = number of valid strings \\\n",
        "                          $g(n)$ = total number of ones over the whole set\n",
        "                          \n",
        "                          f(n+1) = 3f(n) - f(n-1)\n",
        "                          g(n+1) = 3g(n) + f(n) - g(n-1)"
      ],
      "metadata": {
        "id": "lIiei43Cfflx"
      }
    },
    {
      "cell_type": "markdown",
      "source": [
        "h(f,n+1) = f(n) - f(n-1) --> h(g, n+1) = g(n) -"
      ],
      "metadata": {
        "id": "K7HJT2KEmnel"
      }
    },
    {
      "cell_type": "code",
      "source": [
        "def num_valid_strings(n: int) -> int:\n",
        "    # S(n) base cases\n",
        "    if n == 0: return 1       # empty string\n",
        "    if n == 1: return 3       # \"0\",\"1\",\"2\"\n",
        "    return 3*num_valid_strings(n-1) - num_valid_strings(n-2)\n",
        "\n",
        "@lru_cache(None)\n",
        "def num_ones(n: int) -> int:\n",
        "    # O(n) base cases\n",
        "    if n == 0: return 0\n",
        "    if n == 1: return 1       # only \"1\" contributes\n",
        "    return 3*num_ones(n-1) + num_valid_strings(n-1) - num_ones(n-2)"
      ],
      "metadata": {
        "id": "1pk1PytOf5h0"
      },
      "execution_count": 2,
      "outputs": []
    },
    {
      "cell_type": "markdown",
      "source": [
        "Testing - closed form proposed as follows for num of valid strings\n",
        "\n",
        "$f(n)=\\frac{5+3\\sqrt{5}}{10}\\left(\\frac{3+\\sqrt{5}}{2}\\right)^{n}\n",
        "\\;+\\;\\frac{5-3\\sqrt{5}}{10}\\left(\\frac{3-\\sqrt{5}}{2}\\right)^{n}$"
      ],
      "metadata": {
        "id": "PaBUfF5Ef8cR"
      }
    },
    {
      "cell_type": "code",
      "source": [
        "from math import sqrt\n",
        "\n",
        "def closed_form(n):\n",
        "  \"\"\"closed form of recurrence relation of f, number of valid strings for given n\"\"\"\n",
        "  res = ((5+3*sqrt(5))/10)*(((3+ sqrt(5))/2)**n) + ((5-3*sqrt(5))/10) * (((3-sqrt(5))/2)**n)\n",
        "  return res\n",
        "\n",
        "for n in range(0, 6):  # brute force is O(3^n)\n",
        "    Tn = generate_Tn(n)\n",
        "    brute_valid = count_valid(Tn)\n",
        "    brute_ones  = total_ones_over_valid(Tn)\n",
        "    rec_valid   = num_valid_strings(n)\n",
        "    rec_ones    = num_ones(n)\n",
        "    closed_ones = closed_form(n)\n",
        "    print(f\"n={n}: valid  brute={brute_valid:>4}  rec={rec_valid:>4} closed={closed_ones:>4} | ones  brute={brute_ones:>4}  rec={rec_ones:>4}\")\n",
        "\n",
        "\n",
        "# Example single n\n",
        "n = 3\n",
        "Tn = generate_Tn(n)\n",
        "print(\"\\nExample:\")\n",
        "print(\"count_valid(Tn)       =\", count_valid(Tn))        # expected 21 for n=3\n",
        "print(\"num_valid_strings(3)  =\", num_valid_strings(3))   # 21\n",
        "print(\"total_ones_over_valid =\", total_ones_over_valid(Tn))\n",
        "print(\"num_ones(3)           =\", num_ones(3))            # 25"
      ],
      "metadata": {
        "colab": {
          "base_uri": "https://localhost:8080/"
        },
        "id": "6xPztFxkf-oe",
        "outputId": "60ed6d7c-37be-44e2-a813-cb82836ea25e"
      },
      "execution_count": 7,
      "outputs": [
        {
          "output_type": "stream",
          "name": "stdout",
          "text": [
            "n=0: valid  brute=   1  rec=   1 | ones  brute=   0  rec=   0 closed= 1.0\n",
            "n=1: valid  brute=   3  rec=   3 | ones  brute=   1  rec=   1 closed=3.0000000000000004\n",
            "n=2: valid  brute=   8  rec=   8 | ones  brute=   6  rec=   6 closed=8.000000000000002\n",
            "n=3: valid  brute=  21  rec=  21 | ones  brute=  25  rec=  25 closed=21.000000000000004\n",
            "n=4: valid  brute=  55  rec=  55 | ones  brute=  90  rec=  90 closed=55.000000000000014\n",
            "n=5: valid  brute= 144  rec= 144 | ones  brute= 300  rec= 300 closed=144.00000000000003\n",
            "\n",
            "Example:\n",
            "count_valid(Tn)       = 21\n",
            "num_valid_strings(3)  = 21\n",
            "total_ones_over_valid = 25\n",
            "num_ones(3)           = 25\n"
          ]
        }
      ]
    },
    {
      "cell_type": "markdown",
      "source": [
        "Closed form for number of valid strings works, now just need close form for number of 1's"
      ],
      "metadata": {
        "id": "b5ZqQ5RHxAbM"
      }
    },
    {
      "cell_type": "code",
      "source": [],
      "metadata": {
        "id": "bwgHrMNwtaLD"
      },
      "execution_count": null,
      "outputs": []
    },
    {
      "cell_type": "code",
      "source": [],
      "metadata": {
        "id": "fQ4r1Uo_tef9"
      },
      "execution_count": 4,
      "outputs": []
    }
  ]
}